{
 "cells": [
  {
   "cell_type": "code",
   "execution_count": 7,
   "metadata": {},
   "outputs": [
    {
     "name": "stdout",
     "output_type": "stream",
     "text": [
      "54697\n"
     ]
    }
   ],
   "source": [
    "# Part One Solution\n",
    "f = open(\"input.txt\", \"r\")\n",
    "#print(f.read())\n",
    "\n",
    "# go from the front and back, and find the first and last number and concenate them to form the number\n",
    "# keep a sum of those numbers\n",
    "\n",
    "sum = 0\n",
    "\n",
    "for str in f:\n",
    "    firstdigit = ''\n",
    "    lastdigit = ''\n",
    "    for c in str: \n",
    "        if c.isdigit():\n",
    "            firstdigit = c\n",
    "            break\n",
    "    for c in reversed(str):\n",
    "        if c.isdigit():\n",
    "            lastdigit = c\n",
    "            break\n",
    "    num_string = firstdigit + lastdigit\n",
    "    sum = sum + int(num_string)\n",
    "\n",
    "print(sum)"
   ]
  }
 ],
 "metadata": {
  "kernelspec": {
   "display_name": "vanderbilt_movevu",
   "language": "python",
   "name": "python3"
  },
  "language_info": {
   "codemirror_mode": {
    "name": "ipython",
    "version": 3
   },
   "file_extension": ".py",
   "mimetype": "text/x-python",
   "name": "python",
   "nbconvert_exporter": "python",
   "pygments_lexer": "ipython3",
   "version": "3.12.0"
  }
 },
 "nbformat": 4,
 "nbformat_minor": 2
}

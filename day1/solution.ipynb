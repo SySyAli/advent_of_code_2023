{
 "cells": [
  {
   "cell_type": "code",
   "execution_count": 19,
   "metadata": {},
   "outputs": [
    {
     "name": "stdout",
     "output_type": "stream",
     "text": [
      "54697\n"
     ]
    }
   ],
   "source": [
    "# Part One Solution\n",
    "f = open(\"input.txt\", \"r\")\n",
    "#print(f.read())\n",
    "\n",
    "# go from the front and back, and find the first and last number and concenate them to form the number\n",
    "# keep a sum of those numbers\n",
    "\n",
    "sum = 0\n",
    "\n",
    "for s in f:\n",
    "    firstdigit = ''\n",
    "    lastdigit = ''\n",
    "    for c in s: \n",
    "        if c.isdigit():\n",
    "            firstdigit = c\n",
    "            break\n",
    "    for c in reversed(s):\n",
    "        if c.isdigit():\n",
    "            lastdigit = c\n",
    "            break\n",
    "    num_string = firstdigit + lastdigit\n",
    "    sum = sum + int(num_string)\n",
    "\n",
    "print(sum)"
   ]
  },
  {
   "cell_type": "code",
   "execution_count": 30,
   "metadata": {},
   "outputs": [
    {
     "name": "stdout",
     "output_type": "stream",
     "text": [
      "54885\n"
     ]
    }
   ],
   "source": [
    "# Part Two Solution\n",
    "f = open(\"input.txt\", \"r\")\n",
    "#print(f.read())\n",
    "\n",
    "# parse each string - if you find a one, turn it into a o1e, 2 into a t2o,, 3 into 3 t3e, etc. etc.\n",
    "s_nums = {\n",
    "    'one': 'o1e',\n",
    "    'two': 't2o',\n",
    "    'three': 't3e',\n",
    "    'four': 'f4r',\n",
    "    'five': 'f5e',\n",
    "    'six': 's6x',\n",
    "    'seven': 's7n',\n",
    "    'eight': 'e8t',\n",
    "    'nine': 'n9e'\n",
    "}\n",
    "\n",
    "sum = 0\n",
    "\n",
    "for s in f:\n",
    "    new_s = s\n",
    "    for s_num in s_nums:\n",
    "        new_s = new_s.replace(s_num, s_nums[s_num])\n",
    "\n",
    "    firstdigit = ''\n",
    "    lastdigit = ''\n",
    "    for c in new_s: \n",
    "        if c.isdigit():\n",
    "            firstdigit = c\n",
    "            break\n",
    "    for c in reversed(new_s):\n",
    "        if c.isdigit():\n",
    "            lastdigit = c\n",
    "            break\n",
    "    num_string = firstdigit + lastdigit\n",
    "    # print(s, new_s, num_string)\n",
    "    sum = sum + int(num_string)\n",
    "\n",
    "print(sum)"
   ]
  }
 ],
 "metadata": {
  "kernelspec": {
   "display_name": "vanderbilt_movevu",
   "language": "python",
   "name": "python3"
  },
  "language_info": {
   "codemirror_mode": {
    "name": "ipython",
    "version": 3
   },
   "file_extension": ".py",
   "mimetype": "text/x-python",
   "name": "python",
   "nbconvert_exporter": "python",
   "pygments_lexer": "ipython3",
   "version": "3.12.0"
  }
 },
 "nbformat": 4,
 "nbformat_minor": 2
}

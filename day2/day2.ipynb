{
 "cells": [
  {
   "cell_type": "code",
   "execution_count": 52,
   "metadata": {},
   "outputs": [
    {
     "name": "stdout",
     "output_type": "stream",
     "text": [
      "2101\n"
     ]
    }
   ],
   "source": [
    "# part one solution\n",
    "f = open('input.txt')\n",
    "\n",
    "sum = 0\n",
    "\n",
    "MAX_RED = 12\n",
    "MAX_GREEN = 13\n",
    "MAX_BLUE = 14\n",
    "\n",
    "for game in f:\n",
    "    game_num = game[(game.find(' ') + 1): game.find(':')]\n",
    "    game_sets = game[(game.find(':') + 1):]\n",
    "    flag = False    \n",
    "    for gset in game_sets.split(';'):\n",
    "        if not flag:\n",
    "            for gc in gset.split(','):\n",
    "                gc = gc[gc.find(' ') + 1:]\n",
    "                # print(gc)\n",
    "                if gc.find('green') == -1 and gc.find('blue') == -1:\n",
    "                    # check red \n",
    "                    # print('red', gc[:gc.find(' ')], int(gc[:gc.find(' ')]) > MAX_RED)\n",
    "                    if int(gc[:gc.find(' ')]) > MAX_RED:\n",
    "                        flag = True\n",
    "                elif gc.find('green') == -1 and gc.find('red') == -1:\n",
    "                    # check blue \n",
    "                    # print('blue', gc[:gc.find(' ')], int(gc[:gc.find(' ')]) > MAX_BLUE)\n",
    "                    if int(gc[:gc.find(' ')]) > MAX_BLUE:\n",
    "                        flag = True\n",
    "                else:\n",
    "                    # print('green', gc[:gc.find(' ')], int(gc[:gc.find(' ')]) > MAX_GREEN)\n",
    "                    if int(gc[:gc.find(' ')]) > MAX_GREEN:\n",
    "                        flag = True\n",
    "        # print(gset, flag)\n",
    "\n",
    "    # print(flag, game_num, '\\n')\n",
    "    if not flag: \n",
    "        sum = sum + int(game_num)\n",
    "\n",
    "\n",
    "print(sum)\n"
   ]
  },
  {
   "cell_type": "code",
   "execution_count": 60,
   "metadata": {},
   "outputs": [
    {
     "name": "stdout",
     "output_type": "stream",
     "text": [
      "58269\n"
     ]
    }
   ],
   "source": [
    "sum = 0\n",
    "f = open('input.txt')\n",
    "for game in f:\n",
    "    # print(game)\n",
    "    game_num = game[(game.find(' ') + 1): game.find(':')]\n",
    "    game_sets = game[(game.find(':') + 1):]\n",
    "    min_cubes = {\n",
    "        'red': 0,\n",
    "        'green': 0,\n",
    "        'blue': 0\n",
    "    }\n",
    "\n",
    "    for gset in game_sets.split(';'):\n",
    "        for gc in gset.split(','):\n",
    "            gc = gc[gc.find(' ') + 1:]\n",
    "            if gc.find('green') == -1 and gc.find('blue') == -1:\n",
    "                # red\n",
    "                    if min_cubes['red'] < int(gc[:gc.find(' ')]):\n",
    "                        min_cubes['red'] = int(gc[:gc.find(' ')])\n",
    "                \n",
    "            elif gc.find('green') == -1 and gc.find('red') == -1:\n",
    "                # blue\n",
    "                    if min_cubes['blue'] < int(gc[:gc.find(' ')]):\n",
    "                        min_cubes['blue'] = int(gc[:gc.find(' ')])\n",
    "            else:\n",
    "                # green\n",
    "                    if min_cubes['green'] < int(gc[:gc.find(' ')]):\n",
    "                        min_cubes['green'] = int(gc[:gc.find(' ')])\n",
    "    # print(game_num, min_cubes)\n",
    "    sum = sum + (min_cubes['red'] * min_cubes['blue'] * min_cubes['green'])\n",
    "\n",
    "\n",
    "print(sum)"
   ]
  }
 ],
 "metadata": {
  "kernelspec": {
   "display_name": "vanderbilt_movevu",
   "language": "python",
   "name": "python3"
  },
  "language_info": {
   "codemirror_mode": {
    "name": "ipython",
    "version": 3
   },
   "file_extension": ".py",
   "mimetype": "text/x-python",
   "name": "python",
   "nbconvert_exporter": "python",
   "pygments_lexer": "ipython3",
   "version": "3.12.0"
  }
 },
 "nbformat": 4,
 "nbformat_minor": 2
}
